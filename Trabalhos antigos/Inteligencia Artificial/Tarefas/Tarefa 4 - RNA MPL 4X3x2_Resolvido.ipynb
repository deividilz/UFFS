{
 "cells": [
  {
   "cell_type": "markdown",
   "metadata": {},
   "source": [
    "## RNA de apenas um neurônio!"
   ]
  },
  {
   "cell_type": "code",
   "execution_count": 10,
   "metadata": {},
   "outputs": [],
   "source": [
    "import numpy as np #IMPORTAR A BIBLIOTECA NUMPY"
   ]
  },
  {
   "cell_type": "code",
   "execution_count": 11,
   "metadata": {},
   "outputs": [],
   "source": [
    "def sigmoid(x): #FUNÇÃO PARA CALCULAR O SIGMOIDE\n",
    "    return 1/(1+np.exp(-x))"
   ]
  },
  {
   "cell_type": "code",
   "execution_count": 12,
   "metadata": {},
   "outputs": [],
   "source": [
    "N_input = 3 #NÚMERO DE ENTRADAS\n",
    "N_hidden = 4 #NÚMERO DE CAMADAS OCULTAS\n",
    "N_output = 2 #NÚMERO DE SÁIDAS\n",
    "\n",
    "X = np.array([1, 2, 3]) #VETOR PARA OS VALORES DE ENTRADA\n",
    "\n",
    "weights_in_hidden = np.array([[-0.03,  0.01, -0.03, 0.03], #ARRAY COM OS TAMANHOS DA CAMADA OCULTA \n",
    "                              [ 0.02,  0.40,  0.07, 0.02],\n",
    "                              [-0.01,  0.04, -0.02, 0.08]])\n",
    "\n",
    "weights_hidden_out = np.array([[-0.11,  0.01], #ARRAY COM OS PESOS DA CAMADA OCULTA\n",
    "                               [-0.12,  0.03],\n",
    "                               [-0.02,  0.02],\n",
    "                               [-0.07,  0.04]])"
   ]
  },
  {
   "cell_type": "code",
   "execution_count": 13,
   "metadata": {},
   "outputs": [],
   "source": [
    "#Calcule a combinação linear de entradas e pesos sinápticos\n",
    "hidden_layer_in = np.dot(X, weights_in_hidden)\n",
    "\n",
    "#Aplicado a função de ativação\n",
    "hidden_layer_out = sigmoid(hidden_layer_in)\n",
    "\n",
    "#Calcule a combinação linear de entradas e pesos sinápticos\n",
    "output_layer_in = np.dot(hidden_layer_out, weights_hidden_out)\n",
    "\n",
    "#Aplicado a função de ativação \n",
    "output_layer_out = sigmoid(output_layer_in)"
   ]
  },
  {
   "cell_type": "code",
   "execution_count": 14,
   "metadata": {},
   "outputs": [
    {
     "name": "stdout",
     "output_type": "stream",
     "text": [
      "As saídas da rede são:  [0.45236219 0.51494245]\n"
     ]
    }
   ],
   "source": [
    "print('As saídas da rede são: ', output_layer_out)"
   ]
  },
  {
   "cell_type": "code",
   "execution_count": null,
   "metadata": {},
   "outputs": [],
   "source": []
  },
  {
   "cell_type": "code",
   "execution_count": null,
   "metadata": {},
   "outputs": [],
   "source": []
  }
 ],
 "metadata": {
  "kernelspec": {
   "display_name": "Python 3",
   "language": "python",
   "name": "python3"
  },
  "language_info": {
   "codemirror_mode": {
    "name": "ipython",
    "version": 3
   },
   "file_extension": ".py",
   "mimetype": "text/x-python",
   "name": "python",
   "nbconvert_exporter": "python",
   "pygments_lexer": "ipython3",
   "version": "3.6.13"
  }
 },
 "nbformat": 4,
 "nbformat_minor": 2
}
