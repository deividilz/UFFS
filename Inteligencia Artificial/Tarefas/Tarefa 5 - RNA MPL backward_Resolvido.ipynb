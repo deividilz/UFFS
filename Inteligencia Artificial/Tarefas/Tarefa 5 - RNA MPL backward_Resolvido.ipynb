{
 "cells": [
  {
   "cell_type": "markdown",
   "metadata": {},
   "source": [
    "## Backpropagation "
   ]
  },
  {
   "cell_type": "code",
   "execution_count": 14,
   "metadata": {},
   "outputs": [],
   "source": [
    "import numpy as np #IMPORTAR A BIBLIOTECA NUMPY\n",
    "\n",
    "def sigmoid(x): #FUNÇÃO PARA CALCULAR O SIGMOIDE\n",
    "    return 1/(1+np.exp(-x))\n",
    "\n",
    "N_input = 3 #NÚMERO DE ENTRADAS\n",
    "N_hidden = 4 #NÚMERO DE CAMADAS OCULTAS\n",
    "N_output = 2 #NÚMERO DE SÁIDAS\n",
    "\n",
    "x = np.array([1, 2, 3]) #VETOR PARA OS VALORES DE ENTRADA\n",
    "target =np.array([0.3, 0.8])\n",
    "learnrate = 0.5\n",
    "\n",
    "weights_in_hidden = np.array([[-0.03,  0.01, -0.03, 0.03], #ARRAY COM OS TAMANHOS DA CAMADA OCULTA \n",
    "                              [ 0.02,  0.40,  0.07, 0.02],\n",
    "                              [-0.01,  0.04, -0.02, 0.08]])\n",
    "\n",
    "weights_hidden_out = np.array([[-0.11,  0.01], #ARRAY COM OS PESOS DA CAMADA OCULTA\n",
    "                               [-0.12,  0.03],\n",
    "                               [-0.02,  0.02],\n",
    "                               [-0.07,  0.04]])"
   ]
  },
  {
   "cell_type": "code",
   "execution_count": 15,
   "metadata": {
    "scrolled": true
   },
   "outputs": [
    {
     "name": "stdout",
     "output_type": "stream",
     "text": [
      "As saídas da rede são [0.45236219 0.51494245]\n"
     ]
    }
   ],
   "source": [
    "#Camada oculta\n",
    "\n",
    "#Calcule a combinação linear de entradas e pesos sinápticos\n",
    "hidden_layer_input = np.dot(x, weights_in_hidden)\n",
    "#Aplicado a função de ativação\n",
    "hidden_layer_output = sigmoid(hidden_layer_input)\n",
    "\n",
    "#Camada de Saída\n",
    "\n",
    "#Calcule a combinação linear de entradas e pesos sinápticos\n",
    "output_layer_in = np.dot(hidden_layer_output, weights_hidden_out)\n",
    "\n",
    "#Aplicado a função de ativação \n",
    "output = sigmoid(output_layer_in)\n",
    "\n",
    "print('As saídas da rede são',  output)"
   ]
  },
  {
   "cell_type": "code",
   "execution_count": 16,
   "metadata": {
    "scrolled": true
   },
   "outputs": [
    {
     "name": "stdout",
     "output_type": "stream",
     "text": [
      "Variação camada de saída:\n",
      " [[-0.00934184  0.01762219]\n",
      " [-0.01353293  0.02552815]\n",
      " [-0.00967205  0.0182451 ]\n",
      " [-0.0108872   0.02053733]]\n",
      "\n",
      "Variação camada oculta: \n",
      " [[0.00060793 0.00067613 0.00027219 0.00067004]\n",
      " [0.00121586 0.00135226 0.00054439 0.00134009]\n",
      " [0.00182379 0.0020284  0.00081658 0.00201013]]\n"
     ]
    }
   ],
   "source": [
    "error = target - output #CÁLCULO DO ERRO\n",
    "output_error_term = error * output * (1 - output) # CALCULA O TERMO DE ERRO DE SAÍDA (Gradiente da Camada de Saída)\n",
    "\n",
    "hidden_error = np.dot(weights_hidden_out,output_error_term) #CALCULA O ERRO DA CAMADA OCULTA\n",
    "\n",
    "hidden_error_term = hidden_error * hidden_layer_output * (1 - hidden_layer_output) #CALCULA O TERMO DE ERRO DA CAMADA OCULTA\n",
    "\n",
    "delta_w_h_o = learnrate * output_error_term*hidden_layer_output[:, None] #CALCULA A VARIAÇÃO DO PESO DA CAMADA DE SAÍDA\n",
    "print('Variação camada de saída:\\n',delta_w_h_o)\n",
    "\n",
    "delta_w_i_h = learnrate * hidden_error_term * x[:, None] #CALCULA A VARIAÇÃO DO PESO DA CAMADA OCULTA\n",
    "print('\\nVariação camada oculta: \\n',delta_w_i_h)"
   ]
  },
  {
   "cell_type": "code",
   "execution_count": 17,
   "metadata": {},
   "outputs": [
    {
     "name": "stdout",
     "output_type": "stream",
     "text": [
      "Pesos da camada oculta: \n",
      " [[0.00030397 0.00033807 0.0001361  0.00033502]\n",
      " [0.00060793 0.00067613 0.00027219 0.00067004]\n",
      " [0.0009119  0.0010142  0.00040829 0.00100507]]\n",
      "\n",
      "Pesos da camada de saída: \n",
      " [[-0.00467092  0.00881109]\n",
      " [-0.00676646  0.01276407]\n",
      " [-0.00483603  0.00912255]\n",
      " [-0.0054436   0.01026866]]\n"
     ]
    }
   ],
   "source": [
    "#ATUALIZANDO OS PESOS APÓS PRIMEIRA EXECUÇÃO\n",
    "weights_in_hidden = learnrate * delta_w_i_h\n",
    "print('Pesos da camada oculta: \\n',weights_in_hidden)\n",
    "\n",
    "weights_hidden_out = learnrate * delta_w_h_o\n",
    "print('\\nPesos da camada de saída: \\n',weights_hidden_out)"
   ]
  },
  {
   "cell_type": "code",
   "execution_count": null,
   "metadata": {},
   "outputs": [],
   "source": []
  }
 ],
 "metadata": {
  "kernelspec": {
   "display_name": "Python 3",
   "language": "python",
   "name": "python3"
  },
  "language_info": {
   "codemirror_mode": {
    "name": "ipython",
    "version": 3
   },
   "file_extension": ".py",
   "mimetype": "text/x-python",
   "name": "python",
   "nbconvert_exporter": "python",
   "pygments_lexer": "ipython3",
   "version": "3.8.5"
  }
 },
 "nbformat": 4,
 "nbformat_minor": 2
}
